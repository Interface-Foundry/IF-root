{
 "cells": [
  {
   "cell_type": "markdown",
   "metadata": {},
   "source": [
    "## clustering items via kmeans"
   ]
  },
  {
   "cell_type": "code",
   "execution_count": 11,
   "metadata": {
    "collapsed": true
   },
   "outputs": [],
   "source": [
    "from sklearn.cluster import AgglomerativeClustering, KMeans\n",
    "from sklearn.preprocessing import Normalizer\n",
    "from sklearn.decomposition import TruncatedSVD\n",
    "from sklearn.feature_extraction.text import TfidfVectorizer\n",
    "from sklearn.pipeline import make_pipeline\n",
    "\n",
    "from nltk.tokenize import word_tokenize\n",
    "from pymongo import MongoClient\n",
    "\n",
    "import pandas as pd"
   ]
  },
  {
   "cell_type": "markdown",
   "metadata": {},
   "source": [
    "helper function"
   ]
  },
  {
   "cell_type": "code",
   "execution_count": 3,
   "metadata": {
    "collapsed": true
   },
   "outputs": [],
   "source": [
    "def preprocess(s, tokenize_words=False):\n",
    "    s = s.lower()\n",
    "    s = s.replace(' - ', ' ')\n",
    "    s = ''.join(x for x in s if x not in ['(', ')', '[', ']', ',', '®', ':', '-', '+'])\n",
    "    s = s.replace(' mm', 'mm')\n",
    "    s = s.replace('/', ' ')\n",
    "    s = s.replace('gold edition', 'gold_edition')\n",
    "    s = s.replace('premium edition', 'premium_edition')\n",
    "    s = s.replace('standard edition', 'standard_edition')\n",
    "    if tokenize_words:\n",
    "        stoplist = ['&', 'a', 'and', 'the', 'for', 'of', 'to', 'in', 'into']\n",
    "        s = [word for word in s.split() if word not in stoplist]\n",
    "        s = word_tokenize(' '.join(s))\n",
    "    return s\n",
    "\n",
    "\n",
    "def normalize_in_list(row, type='cat'):\n",
    "    tmp = []\n",
    "    for x in row:\n",
    "        if type == 'cat':\n",
    "            tmp.append(preprocess(x, tokenize_words=False))\n",
    "        if type == 'item':\n",
    "            tmp.append(preprocess(x, tokenize_words=True))\n",
    "    return tmp\n",
    "\n",
    "\n",
    "def flatten_lists(l):\n",
    "    return [item for sublist in l for item in sublist]"
   ]
  },
  {
   "cell_type": "markdown",
   "metadata": {},
   "source": [
    "load data"
   ]
  },
  {
   "cell_type": "code",
   "execution_count": 4,
   "metadata": {
    "collapsed": true
   },
   "outputs": [],
   "source": [
    "client = MongoClient()\n",
    "db = client.irwin  # changed from amazonproducts\n",
    "products = db.products\n",
    "data = products.find({'asin': {'$exists': True}, 'name': {'$exists': True}})\n",
    "\n",
    "df = pd.DataFrame(list(data))\n"
   ]
  },
  {
   "cell_type": "code",
   "execution_count": 5,
   "metadata": {
    "collapsed": false
   },
   "outputs": [
    {
     "data": {
      "text/html": [
       "<div>\n",
       "<table border=\"1\" class=\"dataframe\">\n",
       "  <thead>\n",
       "    <tr style=\"text-align: right;\">\n",
       "      <th></th>\n",
       "      <th>__v</th>\n",
       "      <th>_id</th>\n",
       "      <th>alsoBought</th>\n",
       "      <th>alsoViewed</th>\n",
       "      <th>asin</th>\n",
       "      <th>boughtAfterView</th>\n",
       "      <th>category</th>\n",
       "      <th>frequentlyBought</th>\n",
       "      <th>name</th>\n",
       "    </tr>\n",
       "  </thead>\n",
       "  <tbody>\n",
       "    <tr>\n",
       "      <th>0</th>\n",
       "      <td>0</td>\n",
       "      <td>578814f0c23dfe317ef08b9c</td>\n",
       "      <td>[]</td>\n",
       "      <td>[B00PV515DU, B00F27JDUY, B0081O0NT0, B0071NH8B...</td>\n",
       "      <td>B0099HOHW2</td>\n",
       "      <td>[Sony PlayStation Vita WiFi, PlayStation Vita ...</td>\n",
       "      <td>[Video Games, PlayStation Vita, Consoles]</td>\n",
       "      <td>[]</td>\n",
       "      <td>Crystal White Sony Playstation PS Vita Portabl...</td>\n",
       "    </tr>\n",
       "    <tr>\n",
       "      <th>1</th>\n",
       "      <td>0</td>\n",
       "      <td>578814f2c23dfe317ef08baa</td>\n",
       "      <td>[]</td>\n",
       "      <td>[B00HLT0YT0, B00PV515DU, B003O6EATE, B014QAIBL...</td>\n",
       "      <td>B00AW930RE</td>\n",
       "      <td>[Borderlands 2 - Limited Edition - PlayStation...</td>\n",
       "      <td>[Video Games, PlayStation Vita, Consoles]</td>\n",
       "      <td>[]</td>\n",
       "      <td>Cosmic Red Sony PlayStation PS Vita Portable H...</td>\n",
       "    </tr>\n",
       "    <tr>\n",
       "      <th>2</th>\n",
       "      <td>0</td>\n",
       "      <td>578814f4c23dfe317ef08bad</td>\n",
       "      <td>[B014G02C7I, B01D3K7SIK, B014G03PH4, B014FZZJ0...</td>\n",
       "      <td>[]</td>\n",
       "      <td>B014FZYV3C</td>\n",
       "      <td>[Pokémon Yellow Version - 3DS [Digital Code], ...</td>\n",
       "      <td>[Video Games, Kids &amp; Family, Nintendo 3DS, Games]</td>\n",
       "      <td>[]</td>\n",
       "      <td>Animal Crossing: New Leaf - 3DS [Digital Code]</td>\n",
       "    </tr>\n",
       "  </tbody>\n",
       "</table>\n",
       "</div>"
      ],
      "text/plain": [
       "   __v                       _id  \\\n",
       "0    0  578814f0c23dfe317ef08b9c   \n",
       "1    0  578814f2c23dfe317ef08baa   \n",
       "2    0  578814f4c23dfe317ef08bad   \n",
       "\n",
       "                                          alsoBought  \\\n",
       "0                                                 []   \n",
       "1                                                 []   \n",
       "2  [B014G02C7I, B01D3K7SIK, B014G03PH4, B014FZZJ0...   \n",
       "\n",
       "                                          alsoViewed        asin  \\\n",
       "0  [B00PV515DU, B00F27JDUY, B0081O0NT0, B0071NH8B...  B0099HOHW2   \n",
       "1  [B00HLT0YT0, B00PV515DU, B003O6EATE, B014QAIBL...  B00AW930RE   \n",
       "2                                                 []  B014FZYV3C   \n",
       "\n",
       "                                     boughtAfterView  \\\n",
       "0  [Sony PlayStation Vita WiFi, PlayStation Vita ...   \n",
       "1  [Borderlands 2 - Limited Edition - PlayStation...   \n",
       "2  [Pokémon Yellow Version - 3DS [Digital Code], ...   \n",
       "\n",
       "                                            category frequentlyBought  \\\n",
       "0          [Video Games, PlayStation Vita, Consoles]               []   \n",
       "1          [Video Games, PlayStation Vita, Consoles]               []   \n",
       "2  [Video Games, Kids & Family, Nintendo 3DS, Games]               []   \n",
       "\n",
       "                                                name  \n",
       "0  Crystal White Sony Playstation PS Vita Portabl...  \n",
       "1  Cosmic Red Sony PlayStation PS Vita Portable H...  \n",
       "2     Animal Crossing: New Leaf - 3DS [Digital Code]  "
      ]
     },
     "execution_count": 5,
     "metadata": {},
     "output_type": "execute_result"
    }
   ],
   "source": [
    "df.head(3)"
   ]
  },
  {
   "cell_type": "code",
   "execution_count": 9,
   "metadata": {
    "collapsed": false
   },
   "outputs": [],
   "source": [
    "# messing around with the data to see if i could get anything useful so not all these columns are necessary\n",
    "\n",
    "df['name_n'] = df['name'].apply(lambda x: normalize_in_list([x], type='item'))\n",
    "df['boughtAfterView_n'] = df['boughtAfterView'].apply(lambda x: normalize_in_list(x, type='item'))\n",
    "df['category_n'] = df['category'].apply(lambda x: normalize_in_list(x, type='cat'))\n",
    "df['to_embed'] = df.apply(lambda row: sum(row['name_n'] + [flatten_lists(row['boughtAfterView_n']) + row['category_n']],[]), axis=1)\n",
    "df['to_embed2'] = df['to_embed'].apply(lambda x: ' '.join(x))\n",
    "\n",
    "\n",
    "# item ASIN dict possibly necessary later\n",
    "asin = {}\n",
    "for i, row in df.iterrows():\n",
    "    asin[str(row['_id'])] = row['name']\n",
    "rev_asin = {}\n",
    "for k, v in asin.items():\n",
    "    rev_asin[v] = k"
   ]
  },
  {
   "cell_type": "code",
   "execution_count": 12,
   "metadata": {
    "collapsed": false
   },
   "outputs": [
    {
     "name": "stdout",
     "output_type": "stream",
     "text": [
      "Initialization complete\n",
      "Iteration  0, inertia 7.670\n",
      "Iteration  1, inertia 4.683\n",
      "Converged at iteration 1\n"
     ]
    }
   ],
   "source": [
    "vectorizer = TfidfVectorizer(max_df=0.5, \n",
    "                             max_features=None, \n",
    "                             stop_words='english', \n",
    "                             use_idf=True)\n",
    "X = vectorizer.fit_transform(df.to_embed2)\n",
    "\n",
    "svd = TruncatedSVD(10)\n",
    "normalizer = Normalizer(copy=False)\n",
    "pipe_it_up = make_pipeline(svd, normalizer)\n",
    "X2 = pipe_it_up.fit_transform(X)\n",
    "\n",
    "km = KMeans(n_clusters=4, max_iter=10, n_init=1, verbose=2)\n",
    "km.fit(X2)\n",
    "\n",
    "df['predicted_cluster'] = km.predict(X2)"
   ]
  },
  {
   "cell_type": "code",
   "execution_count": 13,
   "metadata": {
    "collapsed": false,
    "scrolled": true
   },
   "outputs": [
    {
     "data": {
      "text/html": [
       "<div>\n",
       "<table border=\"1\" class=\"dataframe\">\n",
       "  <thead>\n",
       "    <tr style=\"text-align: right;\">\n",
       "      <th></th>\n",
       "      <th>name</th>\n",
       "      <th>predicted_cluster</th>\n",
       "    </tr>\n",
       "  </thead>\n",
       "  <tbody>\n",
       "    <tr>\n",
       "      <th>0</th>\n",
       "      <td>Crystal White Sony Playstation PS Vita Portabl...</td>\n",
       "      <td>2</td>\n",
       "    </tr>\n",
       "    <tr>\n",
       "      <th>1</th>\n",
       "      <td>Cosmic Red Sony PlayStation PS Vita Portable H...</td>\n",
       "      <td>2</td>\n",
       "    </tr>\n",
       "    <tr>\n",
       "      <th>2</th>\n",
       "      <td>Animal Crossing: New Leaf - 3DS [Digital Code]</td>\n",
       "      <td>3</td>\n",
       "    </tr>\n",
       "    <tr>\n",
       "      <th>3</th>\n",
       "      <td>Kirby: Planet Robobot - 3DS [Digital Code]</td>\n",
       "      <td>3</td>\n",
       "    </tr>\n",
       "    <tr>\n",
       "      <th>4</th>\n",
       "      <td>Nintendo 3DS XL Black/Black - Nintendo 3DS XL</td>\n",
       "      <td>3</td>\n",
       "    </tr>\n",
       "    <tr>\n",
       "      <th>5</th>\n",
       "      <td>Yoshi's Woolly World - Wii U [Digital Code]</td>\n",
       "      <td>0</td>\n",
       "    </tr>\n",
       "    <tr>\n",
       "      <th>6</th>\n",
       "      <td>Super Smash Bros. - Wii U [Digital Code]</td>\n",
       "      <td>0</td>\n",
       "    </tr>\n",
       "    <tr>\n",
       "      <th>7</th>\n",
       "      <td>Mario Party 10 - Wii U [Digital Code]</td>\n",
       "      <td>0</td>\n",
       "    </tr>\n",
       "    <tr>\n",
       "      <th>8</th>\n",
       "      <td>The Legend of Zelda: Twilight Princess HD - Wi...</td>\n",
       "      <td>1</td>\n",
       "    </tr>\n",
       "    <tr>\n",
       "      <th>9</th>\n",
       "      <td>Star Fox Zero + Star Fox Guard - Wii U [Digita...</td>\n",
       "      <td>1</td>\n",
       "    </tr>\n",
       "    <tr>\n",
       "      <th>10</th>\n",
       "      <td>Super Smash Bros. DLC Collection #1 - Wii U [D...</td>\n",
       "      <td>0</td>\n",
       "    </tr>\n",
       "    <tr>\n",
       "      <th>11</th>\n",
       "      <td>Ex Pc XPD4791 WES2009 4GB/2GB Wes 7 Ready Sticker</td>\n",
       "      <td>2</td>\n",
       "    </tr>\n",
       "    <tr>\n",
       "      <th>12</th>\n",
       "      <td>Nintendo Selects: Donkey Kong Country Tropical...</td>\n",
       "      <td>0</td>\n",
       "    </tr>\n",
       "  </tbody>\n",
       "</table>\n",
       "</div>"
      ],
      "text/plain": [
       "                                                 name  predicted_cluster\n",
       "0   Crystal White Sony Playstation PS Vita Portabl...                  2\n",
       "1   Cosmic Red Sony PlayStation PS Vita Portable H...                  2\n",
       "2      Animal Crossing: New Leaf - 3DS [Digital Code]                  3\n",
       "3          Kirby: Planet Robobot - 3DS [Digital Code]                  3\n",
       "4       Nintendo 3DS XL Black/Black - Nintendo 3DS XL                  3\n",
       "5         Yoshi's Woolly World - Wii U [Digital Code]                  0\n",
       "6            Super Smash Bros. - Wii U [Digital Code]                  0\n",
       "7               Mario Party 10 - Wii U [Digital Code]                  0\n",
       "8   The Legend of Zelda: Twilight Princess HD - Wi...                  1\n",
       "9   Star Fox Zero + Star Fox Guard - Wii U [Digita...                  1\n",
       "10  Super Smash Bros. DLC Collection #1 - Wii U [D...                  0\n",
       "11  Ex Pc XPD4791 WES2009 4GB/2GB Wes 7 Ready Sticker                  2\n",
       "12  Nintendo Selects: Donkey Kong Country Tropical...                  0"
      ]
     },
     "execution_count": 13,
     "metadata": {},
     "output_type": "execute_result"
    }
   ],
   "source": [
    "df[['name', 'predicted_cluster']]"
   ]
  },
  {
   "cell_type": "markdown",
   "metadata": {},
   "source": [
    "These make sense and while the dataset is really small and skewed (you will need to adjust n_clusters and how you munge) it looks right.  If you take an item like *Mario Party 10 - Wii U [Digital Code]* its in cluster 0 which has items like *Yoshi's Woolly World - Wii U [Digital Code]* to these would be the original clusters + names you can than train in a neural network of some sort.  Theres other possible ways to cluster and you can use word2vec but then you need to cluster off the vestors and map the names to the clusters which is more work.  Try something simple usually first to just understand what you are doing before you start throwing complicated and new techniques at it."
   ]
  },
  {
   "cell_type": "code",
   "execution_count": null,
   "metadata": {
    "collapsed": true
   },
   "outputs": [],
   "source": []
  }
 ],
 "metadata": {
  "kernelspec": {
   "display_name": "Python 3",
   "language": "python",
   "name": "python3"
  },
  "language_info": {
   "codemirror_mode": {
    "name": "ipython",
    "version": 3
   },
   "file_extension": ".py",
   "mimetype": "text/x-python",
   "name": "python",
   "nbconvert_exporter": "python",
   "pygments_lexer": "ipython3",
   "version": "3.5.2"
  },
  "latex_envs": {
   "bibliofile": "biblio.bib",
   "cite_by": "apalike",
   "current_citInitial": 1,
   "eqLabelWithNumbers": true,
   "eqNumInitial": 0
  },
  "toc": {
   "toc_cell": false,
   "toc_number_sections": true,
   "toc_threshold": 6,
   "toc_window_display": true
  }
 },
 "nbformat": 4,
 "nbformat_minor": 0
}
